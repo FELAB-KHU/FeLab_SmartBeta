{
 "cells": [
  {
   "cell_type": "markdown",
   "id": "ea0a7b09",
   "metadata": {},
   "source": [
    "# SmartBeta ?"
   ]
  },
  {
   "cell_type": "markdown",
   "id": "b43f561e",
   "metadata": {},
   "source": [
    "### 스마트베타란,  \n",
    "장기적으로 주가지수 이상의 성과를 낼 수 있는 매우 체계적이고 투명한 운용 방식  \n",
    "규칙 기반의 과학적인 운용 프로세스와 투명성이 뛰어난 합리적인 운용 방식  \n",
    "알파 운용 방식과 베타 운용 방식의 교집합  \n",
    "    - 알파 : 벤치마크 지수 대비 초과 수익을 얻기 위한 운용 방식  \n",
    "    - 베타 : 주가 지수 or 특정 지수를 추종하는 운용 방식  \n",
    "  \n",
    "장기적으로 시가총액가중방식의 지수를 이기는 것을 목표로 함"
   ]
  },
  {
   "cell_type": "markdown",
   "id": "eca3b1c7",
   "metadata": {},
   "source": [
    "  \n",
    "### 운용이란,   \n",
    "꾸준하게 양의 알파를 창출하는 것이 목적이지만 지속적으로 시장 대비 초과 수익을 얻는 것은 매우 어려움  \n",
    "그러나, 금융의 발전과 여러 연구를 통해, 이러한 초과 수익이 배당/소형주/가치/성장 등 특정 팩터에 의해 발생하며  \n",
    "사전에 정해진 규칙을 통해 이러한 팩터의 노출이 투명하게 운용될 수 있다는 사실이 밝혀지고 있다.  \n",
    "즉, 과거에는 '알파'로 여겨졌던 것들이 최근 '베타'화 되고 있으며 이를 '스마트베타'라고 한다."
   ]
  },
  {
   "cell_type": "markdown",
   "id": "f49a629a",
   "metadata": {},
   "source": [
    "### 스마트베타 방법의 장점  \n",
    "1. 높은 투명성  \n",
    ": 매니저의 주관적 판단으로 의사결정이 이루어지는 것이 아닌, 체계적으로 확인 가능한 철저한 '규칙 기반'의 방식  \n",
    "2. 위험 감소의 효과  \n",
    ": 장기 투자 시 큰 손실을 피할 수 있음  \n",
    ": 스마트베타 전략이 모든 구간에서 시장 대비 위험이 적은 것은 아니며 특정 구간에서의 변동성이 클 수 도 있으나, 기간을 충분히 확장할 경우 주가지수에 비해 적은 위험을 가짐이 실증됨  \n",
    "3. 다양한 팩터(소형주, 밸류, 퀄리티 등)에 노출하는 스마트베타 전략을 활용하여 분산 전략 구사 가능  \n",
    "4. 장기적으로, 스마트베타 전략이 주가지수보다 '낮은 위험으로 더 높은 성과를 낼 수 있다'"
   ]
  },
  {
   "cell_type": "markdown",
   "id": "596b408e",
   "metadata": {},
   "source": [
    "### [1. 팩터의 탄생](https://github.com/YooJi0/FeLab_SmartBeta/blob/main/Smart%20Beta%20%5B01%5D%20%ED%8C%A9%ED%84%B0%EC%9D%98%20%ED%83%84%EC%83%9D.ipynb)"
   ]
  },
  {
   "cell_type": "markdown",
   "id": "4cdafc62",
   "metadata": {},
   "source": [
    "* 개별 주식의 수익률을 결정하는 팩터를 찾아 미래 수익률을 예측하고자 함  (최초의 팩터 : Market Factor == beta)  \n",
    "* CAPM을 활용하여 베타와 기대수익률 사이의 관계 파악\n",
    "* 파마-프렌치 3팩터 모델을 활용하여 시장베타로도 설명되지 않는 수익률의 잔여 부분 설명  "
   ]
  },
  {
   "cell_type": "markdown",
   "id": "883977de",
   "metadata": {},
   "source": [
    "### [2. 소형주 효과](https://github.com/YooJi0/FeLab_SmartBeta/blob/main/Smart%20Beta%20%5B02%5D%20%EC%86%8C%ED%98%95%EC%A3%BC%20%ED%9A%A8%EA%B3%BC.ipynb)"
   ]
  },
  {
   "cell_type": "markdown",
   "id": "26da8247",
   "metadata": {},
   "source": [
    "* 소형주 효과 : '시가총액 기준 소형주 주식이 대형주 주식보다 장기적으로 수익률이 높다'\n",
    "* 중소형주로 갈수로 대부분 개인 투자자에 의해 거래되며, 정보 또한 대형주에 비해 많이 부족한 상태\n",
    "* 이는 낮은 유동성과 상대적으로 높은 재무적 위험에 노출되며, 이러한 소형주만의 체계적 위험이 위험 프리미엄으로 반영되어 더 높은 수익률을 보이는 것을 설명\n",
    "* SMB 팩터로는 소형주 효과를 설명할 수 없는 것처럼 확인되지만, RMW, HML 팩터로는 소형주 효과의 유효함을 설명"
   ]
  },
  {
   "cell_type": "markdown",
   "id": "a6f10e00",
   "metadata": {},
   "source": [
    "### [3. 저위험 팩터](https://github.com/YooJi0/FeLab_SmartBeta/blob/main/Smart%20Beta%20%5B03%5D%20%EC%A0%80%EC%9C%84%ED%97%98%20%ED%8C%A9%ED%84%B0.ipynb)"
   ]
  },
  {
   "cell_type": "markdown",
   "id": "1486ab0f",
   "metadata": {},
   "source": [
    "* 저변동성 효과 : '고변동성 자산보다 저변동성 자산이 장기적으로 봤을 때 수익률이 대등하거나 그 이상을 얻을 수 있다'\n",
    "* 각 포트폴리오의 표준편차를 변동성(리스크)으로 보고, 저변동성 효과를 설명"
   ]
  },
  {
   "cell_type": "markdown",
   "id": "87ea919d",
   "metadata": {},
   "source": [
    "출처: 김병규, 이현열 (2017). \"Smart Beta, 감정을 이기는 퀀트투자 스마트 베타\""
   ]
  }
 ],
 "metadata": {
  "kernelspec": {
   "display_name": "Python 3 (ipykernel)",
   "language": "python",
   "name": "python3"
  },
  "language_info": {
   "codemirror_mode": {
    "name": "ipython",
    "version": 3
   },
   "file_extension": ".py",
   "mimetype": "text/x-python",
   "name": "python",
   "nbconvert_exporter": "python",
   "pygments_lexer": "ipython3",
   "version": "3.9.7"
  }
 },
 "nbformat": 4,
 "nbformat_minor": 5
}
